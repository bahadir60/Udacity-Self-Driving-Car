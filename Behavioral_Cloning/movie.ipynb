{
 "cells": [
  {
   "cell_type": "code",
   "execution_count": 1,
   "metadata": {},
   "outputs": [
    {
     "name": "stderr",
     "output_type": "stream",
     "text": [
      "/anaconda3/envs/tensorgpu/lib/python3.6/site-packages/h5py/__init__.py:36: FutureWarning: Conversion of the second argument of issubdtype from `float` to `np.floating` is deprecated. In future, it will be treated as `np.float64 == np.dtype(float).type`.\n",
      "  from ._conv import register_converters as _register_converters\n",
      "Using TensorFlow backend.\n"
     ]
    }
   ],
   "source": [
    "import cv2\n",
    "import numpy as np\n",
    "import csv\n",
    "import tensorflow\n",
    "\n",
    "from keras.models import Sequential\n",
    "from keras.layers import Flatten, Dense, Conv2D, MaxPooling2D \n",
    "from keras.layers import Lambda, Cropping2D, Dropout, ELU\n",
    "from keras.layers import BatchNormalization\n",
    "from keras.optimizers import Adam\n",
    "from keras.callbacks import EarlyStopping, ModelCheckpoint\n",
    "\n",
    "from sklearn.model_selection import train_test_split\n",
    "from sklearn.utils import shuffle\n",
    "\n",
    "import matplotlib.pyplot as plt\n",
    "import matplotlib.image as mpimg\n",
    "%matplotlib inline"
   ]
  },
  {
   "cell_type": "code",
   "execution_count": 2,
   "metadata": {},
   "outputs": [],
   "source": [
    "#load lines in csv file to read the images \n",
    "def load_csv(file):\n",
    "    lines = []\n",
    "    with open(file) as csvfile:\n",
    "        reader = csv.reader(csvfile)\n",
    "        for line in reader:\n",
    "            lines.append(line)\n",
    "    return lines[1:]"
   ]
  },
  {
   "cell_type": "code",
   "execution_count": 3,
   "metadata": {},
   "outputs": [],
   "source": [
    "# generally load images in the file \n",
    "def load_images(lines_path, image_path):\n",
    "    path = image_path \n",
    "    lines = lines_path\n",
    "    images = []\n",
    "    angles = []\n",
    "    \n",
    "    for line in lines:\n",
    "        for i in range(3):\n",
    "            source_path = line[i]\n",
    "            filename = source_path.split('/')[-1]\n",
    "            current_path = path+filename\n",
    "            image = cv2.imread(current_path)\n",
    "            images.append(image)\n",
    "            angle = float(line[3])\n",
    "            if i == 0:\n",
    "                angles.append(angle)\n",
    "            elif i == 1:\n",
    "                angles.append(angle + 0.20)\n",
    "            else:\n",
    "                angles.append(angle - 0.20)\n",
    "    X_train = np.array(images)\n",
    "    y_train = np.array(angles) \n",
    "    return X_train, y_train"
   ]
  },
  {
   "cell_type": "markdown",
   "metadata": {},
   "source": [
    "## Load Images and Split "
   ]
  },
  {
   "cell_type": "code",
   "execution_count": 4,
   "metadata": {},
   "outputs": [],
   "source": [
    "file = './data-udacity/driving_log.csv'\n",
    "image_path = './data-udacity/IMG/'\n",
    "\n",
    "#load image names in the csv file\n",
    "lines_path = load_csv(file)\n",
    "\n",
    "#split not the data just their names\n",
    "# We don't need to test images because it is a regression problem not classification.\n",
    "train_samples, validation_samples = train_test_split(lines_path, shuffle=True, test_size=0.2)"
   ]
  },
  {
   "cell_type": "code",
   "execution_count": 5,
   "metadata": {},
   "outputs": [
    {
     "name": "stdout",
     "output_type": "stream",
     "text": [
      "Total Train samples: 19284\n",
      "Total Valid samples: 4824\n"
     ]
    }
   ],
   "source": [
    "X_train, y_train = load_images(train_samples, image_path)\n",
    "X_valid, y_valid = load_images(validation_samples, image_path)\n",
    "\n",
    "#Check Train and Valid data samples\n",
    "assert len(X_train) == len(y_train), \"X_train {} and y_train {} are not equal\".format(len(X_train), len(y_train))\n",
    "assert len(X_valid) == len(y_valid), \"X_valid {} and y_valid {} are not equal\".format(len(X_valid), len(y_valid))\n",
    "print('Total Train samples: {}\\nTotal Valid samples: {}'.format(len(X_train), len(X_valid)))"
   ]
  },
  {
   "cell_type": "code",
   "execution_count": 6,
   "metadata": {},
   "outputs": [],
   "source": [
    "#Shuffle train and validation sets - also keras have a shuffle attribute in training\n",
    "X_train_s, y_train_s = shuffle(X_train, y_train)\n",
    "X_valid_s, y_valid_s= shuffle(X_valid, y_valid)"
   ]
  },
  {
   "cell_type": "code",
   "execution_count": 33,
   "metadata": {},
   "outputs": [
    {
     "data": {
      "image/png": "[encoded data removed]",
      "text/plain": [
       "<matplotlib.figure.Figure at 0x14ee05080>"
      ]
     },
     "metadata": {},
     "output_type": "display_data"
    }
   ],
   "source": [
    "# Check and show the train, validation data steering feature\n",
    "def show_steering(y_train, y_valid):\n",
    "    '''take train and validation data label-steering and visualize a histogram.\n",
    "    input: y_train : train set label,\n",
    "           y_valid : validation set label,\n",
    "    output: Histogram of labels'''\n",
    "        \n",
    "    max_degree = 25\n",
    "    degree_per_steering =10\n",
    "    n_classes = max_degree * degree_per_steering\n",
    "    fig, axes = plt.subplots(2, 1, figsize=(8, 8))\n",
    "    plt.subplots_adjust(left=0, right=0.95, top=0.9, bottom=0.25)\n",
    "    ax0, ax1= axes.flatten()\n",
    "\n",
    "    ax0.hist(y_train, bins=n_classes, histtype='bar', color='blue', rwidth=0.6, label='train')\n",
    "    ax0.set_title('Number of training')\n",
    "    ax0.set_xlabel('Steering Angle')\n",
    "    ax0.set_ylabel('Total Image')\n",
    "\n",
    "    ax1.hist(y_valid, bins=n_classes, histtype='bar', color='red', rwidth=0.6, label='valid')\n",
    "    ax1.set_title('Number of validation')\n",
    "    ax1.set_xlabel('Steering Angle')\n",
    "    ax1.set_ylabel('Total Image')\n",
    "\n",
    "    fig.tight_layout()\n",
    "    plt.show()\n",
    "#show     \n",
    "show_steering(y_train, y_valid)"
   ]
  },
  {
   "cell_type": "markdown",
   "metadata": {
    "collapsed": true
   },
   "source": [
    "As you see data is not a normal distribution if we load this data to network -0.2, 0, +0.2 degrees overweighted the other steering angles. \n",
    "\n",
    "I think we have two option. First one is when I load the data to network I cut overweigted degrees (as mention above) make it all degrees have normal distribution. It seems a good option, however when thinking machine learning intuition it is not a good option, why? Because we lost some of the data and load to network very low data might makes it overfitted. \n",
    "\n",
    "Second option is generate a new, augmented data. It is opposite of the first option. Instead of cut the overweigted steering angles, this time we augmented the data that the other steering angles have more that and get nearly normal distribution. So I choose this option. "
   ]
  },
  {
   "cell_type": "markdown",
   "metadata": {
    "collapsed": true
   },
   "source": [
    "# Augmention Phase\n",
    "\n",
    "How to augment data, I have some options:\n",
    "\n",
    "-Load left and right images(I did it above) \n",
    "\n",
    "-Make some images flip\n",
    "\n",
    "-Make some images brighten\n",
    "\n",
    "Also I have more options that like scale, zoom or crop images. However this are change the shape of the image that I don't need on this regression project.Check the document for augmentation on Keras https://keras.io/preprocessing/image/."
   ]
  },
  {
   "cell_type": "code",
   "execution_count": 25,
   "metadata": {},
   "outputs": [],
   "source": [
    "def image_brighten(image):\n",
    "    hsv_image = cv2.cvtColor(image, cv2.COLOR_BGR2HSV)\n",
    "    default_bias = 0.25\n",
    "    brightness = default_bias + np.random.uniform() \n",
    "    hsv_image[:, :, 2] = hsv_image[:, :, 2] * brightness\n",
    "    return cv2.cvtColor(hsv_image, cv2.COLOR_HSV2RGB)\n",
    "\n",
    "def bias(n):\n",
    "    return 1. / (n + 1.)"
   ]
  },
  {
   "cell_type": "code",
   "execution_count": 26,
   "metadata": {},
   "outputs": [],
   "source": [
    "def bias(batch_number):\n",
    "    '''take batch number and return a bias term'''\n",
    "    return 1. / (batch_number + 1.)"
   ]
  },
  {
   "cell_type": "code",
   "execution_count": 27,
   "metadata": {},
   "outputs": [],
   "source": [
    "def generator(lines_path, image_path, batch_size=32):\n",
    "    path = image_path \n",
    "    lines = lines_path\n",
    "    sum_lines = len(lines)\n",
    "    batch_number=1\n",
    "    while 1: \n",
    "        shuffle(lines)\n",
    "        for offset in range(0, sum_lines, batch_size):\n",
    "            batch_samples = lines[offset:offset+batch_size]      \n",
    "            images = []\n",
    "            angles = []\n",
    "            for batch_sample in batch_samples:\n",
    "                img_choice = np.random.randint(3)\n",
    "                angle = float(batch_sample[3])\n",
    "                if angle + bias(batch_number) < np.random.uniform():\n",
    "                    if img_choice == 0:\n",
    "                        name =path +batch_sample[1].split('/')[-1]\n",
    "                        if abs(angle) > 1:\n",
    "                            angle += 0.25\n",
    "                        else:\n",
    "                            angle+=0.18\n",
    "                    elif img_choice == 1:\n",
    "                        name = path+batch_sample[0].split('/')[-1]     \n",
    "                    else:\n",
    "                        name = path+batch_sample[2].split('/')[-1]\n",
    "                        if abs(angle) > 1:\n",
    "                            angle -= 0.25\n",
    "                        else:\n",
    "                            angle-=0.18\n",
    "                    image = cv2.imread(name)\n",
    "                    if np.random.randint(10) == 0:\n",
    "                        images.append(image)\n",
    "                        angles.append(angle)               \n",
    "                    if angle!=0.18 and angle!=-0.18 and angle!=0:\n",
    "                        if np.random.randint(3) == 0:\n",
    "                            image_new = np.fliplr(image)\n",
    "                            angle_new = -angle\n",
    "                            images.append(image_new)\n",
    "                            angles.append(angle_new)\n",
    "                        if np.random.randint(3) == 1 or 2:\n",
    "                            image_new = image_brighten(image)\n",
    "                            images.append(image_new)\n",
    "                            angles.append(angle)\n",
    "                            if np.random.randint(3) == 2:\n",
    "                                image_new = np.fliplr(image)\n",
    "                                angle_new = -angle\n",
    "                                images.append(image_new)\n",
    "                                angles.append(angle_new)    \n",
    "                batch_number +=1              \n",
    "            X_train = np.array(images)\n",
    "            y_train = np.array(angles)    \n",
    "            yield shuffle(X_train, y_train)"
   ]
  },
  {
   "cell_type": "code",
   "execution_count": 28,
   "metadata": {},
   "outputs": [],
   "source": [
    "# Load the images via generator\n",
    "train_generator = generator(train_samples, image_path)\n",
    "validation_generator = generator(validation_samples, image_path)\n"
   ]
  },
  {
   "cell_type": "code",
   "execution_count": 35,
   "metadata": {},
   "outputs": [],
   "source": [
    "#For visualize lets make some samples that 1024 images for each\n",
    "x_train_gen, y_train_gen = [], [] \n",
    "x_valid_gen, y_valid_gen = [], [] \n",
    "\n",
    "x_train_gen, y_train_gen = (next(generator(train_samples, image_path, batch_size=1024)))\n",
    "x_valid_gen, y_valid_gen = (next(generator(validation_samples, image_path, batch_size=1024)))"
   ]
  },
  {
   "cell_type": "code",
   "execution_count": 36,
   "metadata": {
    "scrolled": false
   },
   "outputs": [
    {
     "data": {
      "image/png": "[encoded data removed]",
      "text/plain": [
       "<matplotlib.figure.Figure at 0x1598bceb8>"
      ]
     },
     "metadata": {},
     "output_type": "display_data"
    }
   ],
   "source": [
    "show_steering(y_train_gen, y_valid_gen)"
   ]
  },
  {
   "cell_type": "markdown",
   "metadata": {},
   "source": [
    "As augmented data, instead of select not all left, center or right image, randomly select of them. So more than 19k data decrease but not using overweighted data give us better result. And in augmented phase not use 0 degree bias images, so we gets better distribution. I can't say it is perfect but it can be more useable. "
   ]
  },
  {
   "cell_type": "code",
   "execution_count": 38,
   "metadata": {},
   "outputs": [],
   "source": [
    "counter = 0\n",
    "def normal_load(lines_path, image_path):\n",
    "    global counter\n",
    "    path = image_path \n",
    "    lines = lines_path\n",
    "    total = len(lines_path)\n",
    "\n",
    "    shuffle(lines)\n",
    "    \n",
    "    images = []\n",
    "    angles = []\n",
    "    \n",
    "    while total >= len(angles):\n",
    "        for line in lines:\n",
    "            img_choice = np.random.randint(3)\n",
    "            angle = float(line[3])\n",
    "            if angle + bias(counter) < np.random.uniform():\n",
    "                if img_choice == 0:\n",
    "                    name =path + line[1].split('/')[-1]\n",
    "\n",
    "                    if abs(angle) > 1:\n",
    "                        angle += 0.25\n",
    "                    else:\n",
    "                        angle+=0.18\n",
    "                elif img_choice == 1:\n",
    "                    name = path + line[0].split('/')[-1]     \n",
    "                else:\n",
    "                    name = path + line[2].split('/')[-1]\n",
    "                    if abs(angle) > 1:\n",
    "                        angle -= 0.25\n",
    "                    else:\n",
    "                        angle-=0.18\n",
    "\n",
    "                image = cv2.imread(name)\n",
    "                if np.random.randint(10) == 0:\n",
    "                    images.append(image)\n",
    "                    angles.append(angle)\n",
    "\n",
    "\n",
    "                if angle!=0.18 and angle!=-0.18 and angle!=0:\n",
    "                    for i in range(3):\n",
    "                        if np.random.randint(3) == 0:\n",
    "                            image_new = np.fliplr(image)\n",
    "                            angle_new = -angle\n",
    "                            images.append(image_new)\n",
    "                            angles.append(angle_new)\n",
    "\n",
    "                        if np.random.randint(3) == 1 or 2:\n",
    "                            image_new = image_brighten(image)\n",
    "                            images.append(image_new)\n",
    "                            angles.append(angle)\n",
    "                            if np.random.randint(3) == 2:\n",
    "                                image_new = np.fliplr(image)\n",
    "                                angle_new = -angle\n",
    "                                images.append(image_new)\n",
    "                                angles.append(angle_new) \n",
    "            counter +=1                \n",
    "\n",
    "    X_train = np.array(images)\n",
    "    y_train = np.array(angles)\n",
    "\n",
    "    return shuffle(X_train, y_train)    "
   ]
  },
  {
   "cell_type": "code",
   "execution_count": 39,
   "metadata": {},
   "outputs": [
    {
     "name": "stdout",
     "output_type": "stream",
     "text": [
      "total seconds for loaded: 109 sn\n"
     ]
    }
   ],
   "source": [
    "import time\n",
    "t0 = time.time()\n",
    "X_train_normal, y_train_normal = normal_load(train_samples, image_path)\n",
    "X_valid_normal, y_valid_normal = normal_load(validation_samples, image_path)\n",
    "t1=time.time()\n",
    "print(\"total seconds for loaded: {} sn\".format(round(t1-t0)))"
   ]
  },
  {
   "cell_type": "code",
   "execution_count": 40,
   "metadata": {},
   "outputs": [
    {
     "name": "stdout",
     "output_type": "stream",
     "text": [
      "14286\n"
     ]
    }
   ],
   "source": [
    "print(len(X_train_normal))"
   ]
  },
  {
   "cell_type": "code",
   "execution_count": 41,
   "metadata": {},
   "outputs": [
    {
     "data": {
      "image/png": "[encoded data removed]",
      "text/plain": [
       "<matplotlib.figure.Figure at 0x14afed160>"
      ]
     },
     "metadata": {},
     "output_type": "display_data"
    }
   ],
   "source": [
    "show_steering(y_train_normal, y_valid_normal)"
   ]
  },
  {
   "cell_type": "markdown",
   "metadata": {},
   "source": [
    "# Model Selection\n",
    "\n",
    "-First, crop unneeded part of the image(as suggested in udacity lesson)\n",
    "\n",
    "-Resize image to a small one\n",
    "\n",
    "-Normalize the data\n",
    "\n",
    "-Use 5 convolution layers with batch normalization and activation if ELU\n",
    "\n",
    "-1 Flatten layer and 3 dense layer with activation ELU and using dropout to not overfit the network\n",
    "\n",
    "-Optimizer Adam with learning rate 1e-5 instead of default 1e-3"
   ]
  },
  {
   "cell_type": "code",
   "execution_count": 8,
   "metadata": {},
   "outputs": [],
   "source": [
    "def resize(img):\n",
    "    import tensorflow\n",
    "    return tensorflow.image.resize_images(img, (60, 120))"
   ]
  },
  {
   "cell_type": "code",
   "execution_count": 9,
   "metadata": {
    "scrolled": false
   },
   "outputs": [
    {
     "name": "stdout",
     "output_type": "stream",
     "text": [
      "_________________________________________________________________\n",
      "Layer (type)                 Output Shape              Param #   \n",
      "=================================================================\n",
      "cropping2d_1 (Cropping2D)    (None, 60, 320, 3)        0         \n",
      "_________________________________________________________________\n",
      "lambda_1 (Lambda)            (None, 60, 120, 3)        0         \n",
      "_________________________________________________________________\n",
      "lambda_2 (Lambda)            (None, 60, 120, 3)        0         \n",
      "_________________________________________________________________\n",
      "conv2d_1 (Conv2D)            (None, 60, 120, 3)        12        \n",
      "_________________________________________________________________\n",
      "elu_1 (ELU)                  (None, 60, 120, 3)        0         \n",
      "_________________________________________________________________\n",
      "batch_normalization_1 (Batch (None, 60, 120, 3)        12        \n",
      "_________________________________________________________________\n",
      "conv2d_2 (Conv2D)            (None, 30, 60, 16)        1216      \n",
      "_________________________________________________________________\n",
      "elu_2 (ELU)                  (None, 30, 60, 16)        0         \n",
      "_________________________________________________________________\n",
      "batch_normalization_2 (Batch (None, 30, 60, 16)        64        \n",
      "_________________________________________________________________\n",
      "conv2d_3 (Conv2D)            (None, 15, 30, 32)        12832     \n",
      "_________________________________________________________________\n",
      "elu_3 (ELU)                  (None, 15, 30, 32)        0         \n",
      "_________________________________________________________________\n",
      "batch_normalization_3 (Batch (None, 15, 30, 32)        128       \n",
      "_________________________________________________________________\n",
      "conv2d_4 (Conv2D)            (None, 8, 15, 64)         18496     \n",
      "_________________________________________________________________\n",
      "elu_4 (ELU)                  (None, 8, 15, 64)         0         \n",
      "_________________________________________________________________\n",
      "batch_normalization_4 (Batch (None, 8, 15, 64)         256       \n",
      "_________________________________________________________________\n",
      "conv2d_5 (Conv2D)            (None, 4, 8, 128)         73856     \n",
      "_________________________________________________________________\n",
      "elu_5 (ELU)                  (None, 4, 8, 128)         0         \n",
      "_________________________________________________________________\n",
      "flatten_1 (Flatten)          (None, 4096)              0         \n",
      "_________________________________________________________________\n",
      "elu_6 (ELU)                  (None, 4096)              0         \n",
      "_________________________________________________________________\n",
      "dense_1 (Dense)              (None, 512)               2097664   \n",
      "_________________________________________________________________\n",
      "dropout_1 (Dropout)          (None, 512)               0         \n",
      "_________________________________________________________________\n",
      "elu_7 (ELU)                  (None, 512)               0         \n",
      "_________________________________________________________________\n",
      "dense_2 (Dense)              (None, 100)               51300     \n",
      "_________________________________________________________________\n",
      "dropout_2 (Dropout)          (None, 100)               0         \n",
      "_________________________________________________________________\n",
      "elu_8 (ELU)                  (None, 100)               0         \n",
      "_________________________________________________________________\n",
      "dense_3 (Dense)              (None, 10)                1010      \n",
      "_________________________________________________________________\n",
      "dropout_3 (Dropout)          (None, 10)                0         \n",
      "_________________________________________________________________\n",
      "elu_9 (ELU)                  (None, 10)                0         \n",
      "_________________________________________________________________\n",
      "dense_4 (Dense)              (None, 1)                 11        \n",
      "=================================================================\n",
      "Total params: 2,256,857\n",
      "Trainable params: 2,256,627\n",
      "Non-trainable params: 230\n",
      "_________________________________________________________________\n"
     ]
    }
   ],
   "source": [
    "model = Sequential()\n",
    "\n",
    "# Crop 70 pixels from the top of the image and 25 from the bottom\n",
    "model.add(Cropping2D(cropping=((75, 25), (0, 0)),\n",
    "                     input_shape=(160, 320, 3),\n",
    "                     data_format=\"channels_last\"))\n",
    "\n",
    "# Resize the data\n",
    "model.add(Lambda(resize))\n",
    "\n",
    "# Normalize the data\n",
    "model.add(Lambda(lambda x: (x/127.5) - 0.5))\n",
    "\n",
    "model.add(Conv2D(3, (1, 1), padding='same'))\n",
    "model.add(ELU())\n",
    "\n",
    "model.add(BatchNormalization())\n",
    "model.add(Conv2D(16, (5, 5), strides=(2, 2), padding=\"same\"))\n",
    "model.add(ELU())\n",
    "\n",
    "model.add(BatchNormalization())\n",
    "model.add(Conv2D(32, (5, 5), strides=(2, 2), padding=\"same\"))\n",
    "model.add(ELU())\n",
    "\n",
    "model.add(BatchNormalization())\n",
    "model.add(Conv2D(64, (3, 3), strides=(2, 2), padding=\"same\"))\n",
    "model.add(ELU())\n",
    "\n",
    "model.add(BatchNormalization())\n",
    "model.add(Conv2D(128, (3, 3), strides=(2, 2), padding=\"same\"))\n",
    "model.add(ELU())\n",
    "\n",
    "model.add(Flatten())\n",
    "model.add(ELU())\n",
    "\n",
    "model.add(Dense(512))\n",
    "model.add(Dropout(.2))\n",
    "model.add(ELU())\n",
    "\n",
    "model.add(Dense(100))\n",
    "model.add(Dropout(.5))\n",
    "model.add(ELU())\n",
    "\n",
    "model.add(Dense(10))\n",
    "model.add(Dropout(.5))\n",
    "model.add(ELU())\n",
    "\n",
    "model.add(Dense(1))\n",
    "\n",
    "adam = Adam(lr=1e-5)\n",
    "model.compile(optimizer= adam, loss=\"mse\", metrics=['accuracy'])\n",
    "\n",
    "#Showing model and params, it is a heavy network with nearly 2.2 bilion params\n",
    "model.summary()"
   ]
  },
  {
   "cell_type": "code",
   "execution_count": 50,
   "metadata": {},
   "outputs": [
    {
     "name": "stdout",
     "output_type": "stream",
     "text": [
      "Epoch 1/1\n",
      "6428/6428 [==============================] - 567s 88ms/step - loss: 0.0288 - acc: 0.0234 - val_loss: 0.0188 - val_acc: 0.0237\n"
     ]
    }
   ],
   "source": [
    "file = 'model_generator.h5'\n",
    "earlystopper = EarlyStopping(patience=5, verbose=1)\n",
    "checkpointer = ModelCheckpoint(file, monitor='val_loss', verbose=1, save_best_only=True)\n",
    "model.fit_generator(train_generator, steps_per_epoch= len(train_samples),\n",
    "                    validation_data=validation_generator,\n",
    "                    validation_steps=len(validation_samples), epochs = 1)\n",
    "model.save(file)"
   ]
  },
  {
   "cell_type": "code",
   "execution_count": 47,
   "metadata": {
    "scrolled": true
   },
   "outputs": [
    {
     "name": "stdout",
     "output_type": "stream",
     "text": [
      "Train on 14286 samples, validate on 3458 samples\n",
      "Epoch 1/50\n",
      "14286/14286 [==============================] - 22s 2ms/step - loss: 0.1515 - acc: 0.0069 - val_loss: 0.0295 - val_acc: 0.0067\n",
      "Epoch 2/50\n",
      "14286/14286 [==============================] - 20s 1ms/step - loss: 0.1425 - acc: 0.0062 - val_loss: 0.0287 - val_acc: 0.0067\n",
      "Epoch 3/50\n",
      "14286/14286 [==============================] - 20s 1ms/step - loss: 0.1365 - acc: 0.0066 - val_loss: 0.0291 - val_acc: 0.0067\n",
      "Epoch 4/50\n",
      "14286/14286 [==============================] - 20s 1ms/step - loss: 0.1289 - acc: 0.0067 - val_loss: 0.0269 - val_acc: 0.0067\n",
      "Epoch 5/50\n",
      "14286/14286 [==============================] - 20s 1ms/step - loss: 0.1215 - acc: 0.0070 - val_loss: 0.0263 - val_acc: 0.0067\n",
      "Epoch 6/50\n",
      "14286/14286 [==============================] - 20s 1ms/step - loss: 0.1185 - acc: 0.0066 - val_loss: 0.0279 - val_acc: 0.0067\n",
      "Epoch 7/50\n",
      "14286/14286 [==============================] - 19s 1ms/step - loss: 0.1110 - acc: 0.0070 - val_loss: 0.0256 - val_acc: 0.0067\n",
      "Epoch 8/50\n",
      "14286/14286 [==============================] - 20s 1ms/step - loss: 0.1050 - acc: 0.0073 - val_loss: 0.0272 - val_acc: 0.0067\n",
      "Epoch 9/50\n",
      "14286/14286 [==============================] - 19s 1ms/step - loss: 0.0988 - acc: 0.0071 - val_loss: 0.0277 - val_acc: 0.0067\n",
      "Epoch 10/50\n",
      "14286/14286 [==============================] - 19s 1ms/step - loss: 0.0938 - acc: 0.0074 - val_loss: 0.0265 - val_acc: 0.0067\n",
      "Epoch 11/50\n",
      "14286/14286 [==============================] - 20s 1ms/step - loss: 0.0886 - acc: 0.0074 - val_loss: 0.0272 - val_acc: 0.0067\n",
      "Epoch 12/50\n",
      "14286/14286 [==============================] - 19s 1ms/step - loss: 0.0871 - acc: 0.0073 - val_loss: 0.0250 - val_acc: 0.0067\n",
      "Epoch 13/50\n",
      "14286/14286 [==============================] - 19s 1ms/step - loss: 0.0844 - acc: 0.0074 - val_loss: 0.0247 - val_acc: 0.0067\n",
      "Epoch 14/50\n",
      "14286/14286 [==============================] - 19s 1ms/step - loss: 0.0795 - acc: 0.0078 - val_loss: 0.0253 - val_acc: 0.0067\n",
      "Epoch 15/50\n",
      "14286/14286 [==============================] - 19s 1ms/step - loss: 0.0757 - acc: 0.0073 - val_loss: 0.0265 - val_acc: 0.0067\n",
      "Epoch 16/50\n",
      "14286/14286 [==============================] - 19s 1ms/step - loss: 0.0719 - acc: 0.0077 - val_loss: 0.0241 - val_acc: 0.0067\n",
      "Epoch 17/50\n",
      "14286/14286 [==============================] - 19s 1ms/step - loss: 0.0698 - acc: 0.0078 - val_loss: 0.0236 - val_acc: 0.0067\n",
      "Epoch 18/50\n",
      "14286/14286 [==============================] - 19s 1ms/step - loss: 0.0648 - acc: 0.0076 - val_loss: 0.0249 - val_acc: 0.0067\n",
      "Epoch 19/50\n",
      "14286/14286 [==============================] - 20s 1ms/step - loss: 0.0651 - acc: 0.0078 - val_loss: 0.0242 - val_acc: 0.0067\n",
      "Epoch 20/50\n",
      "14286/14286 [==============================] - 20s 1ms/step - loss: 0.0614 - acc: 0.0078 - val_loss: 0.0240 - val_acc: 0.0067\n",
      "Epoch 21/50\n",
      "14286/14286 [==============================] - 19s 1ms/step - loss: 0.0600 - acc: 0.0078 - val_loss: 0.0237 - val_acc: 0.0067\n",
      "Epoch 22/50\n",
      "14286/14286 [==============================] - 19s 1ms/step - loss: 0.0584 - acc: 0.0078 - val_loss: 0.0244 - val_acc: 0.0067\n",
      "Epoch 23/50\n",
      "14286/14286 [==============================] - 19s 1ms/step - loss: 0.0551 - acc: 0.0078 - val_loss: 0.0233 - val_acc: 0.0067\n",
      "Epoch 24/50\n",
      "14286/14286 [==============================] - 19s 1ms/step - loss: 0.0553 - acc: 0.0077 - val_loss: 0.0233 - val_acc: 0.0067\n",
      "Epoch 25/50\n",
      "14286/14286 [==============================] - 20s 1ms/step - loss: 0.0521 - acc: 0.0080 - val_loss: 0.0227 - val_acc: 0.0067\n",
      "Epoch 26/50\n",
      "14286/14286 [==============================] - 19s 1ms/step - loss: 0.0495 - acc: 0.0080 - val_loss: 0.0239 - val_acc: 0.0067\n",
      "Epoch 27/50\n",
      "14286/14286 [==============================] - 19s 1ms/step - loss: 0.0494 - acc: 0.0078 - val_loss: 0.0229 - val_acc: 0.0067\n",
      "Epoch 28/50\n",
      "14286/14286 [==============================] - 19s 1ms/step - loss: 0.0484 - acc: 0.0080 - val_loss: 0.0230 - val_acc: 0.0067\n",
      "Epoch 29/50\n",
      "14286/14286 [==============================] - 19s 1ms/step - loss: 0.0468 - acc: 0.0078 - val_loss: 0.0227 - val_acc: 0.0067\n",
      "Epoch 30/50\n",
      "14286/14286 [==============================] - 19s 1ms/step - loss: 0.0457 - acc: 0.0080 - val_loss: 0.0226 - val_acc: 0.0067\n",
      "Epoch 31/50\n",
      "14286/14286 [==============================] - 20s 1ms/step - loss: 0.0446 - acc: 0.0080 - val_loss: 0.0226 - val_acc: 0.0067\n",
      "Epoch 32/50\n",
      "14286/14286 [==============================] - 20s 1ms/step - loss: 0.0441 - acc: 0.0079 - val_loss: 0.0233 - val_acc: 0.0067\n",
      "Epoch 33/50\n",
      "14286/14286 [==============================] - 20s 1ms/step - loss: 0.0433 - acc: 0.0079 - val_loss: 0.0226 - val_acc: 0.0067\n",
      "Epoch 34/50\n",
      "14286/14286 [==============================] - 20s 1ms/step - loss: 0.0413 - acc: 0.0078 - val_loss: 0.0218 - val_acc: 0.0067\n",
      "Epoch 35/50\n",
      "14286/14286 [==============================] - 20s 1ms/step - loss: 0.0408 - acc: 0.0079 - val_loss: 0.0225 - val_acc: 0.0067\n",
      "Epoch 36/50\n",
      "14286/14286 [==============================] - 20s 1ms/step - loss: 0.0394 - acc: 0.0080 - val_loss: 0.0229 - val_acc: 0.0067\n",
      "Epoch 37/50\n",
      "14286/14286 [==============================] - 20s 1ms/step - loss: 0.0394 - acc: 0.0080 - val_loss: 0.0226 - val_acc: 0.0067\n",
      "Epoch 38/50\n",
      "14286/14286 [==============================] - 20s 1ms/step - loss: 0.0391 - acc: 0.0079 - val_loss: 0.0222 - val_acc: 0.0067\n",
      "Epoch 39/50\n",
      "14286/14286 [==============================] - 20s 1ms/step - loss: 0.0383 - acc: 0.0079 - val_loss: 0.0220 - val_acc: 0.0067\n",
      "Epoch 40/50\n",
      "14286/14286 [==============================] - 20s 1ms/step - loss: 0.0374 - acc: 0.0080 - val_loss: 0.0215 - val_acc: 0.0067\n",
      "Epoch 41/50\n",
      "14286/14286 [==============================] - 19s 1ms/step - loss: 0.0365 - acc: 0.0080 - val_loss: 0.0225 - val_acc: 0.0067\n",
      "Epoch 42/50\n",
      "14286/14286 [==============================] - 19s 1ms/step - loss: 0.0356 - acc: 0.0080 - val_loss: 0.0218 - val_acc: 0.0067\n",
      "Epoch 43/50\n",
      "14286/14286 [==============================] - 19s 1ms/step - loss: 0.0354 - acc: 0.0080 - val_loss: 0.0216 - val_acc: 0.0067\n",
      "Epoch 44/50\n",
      "14286/14286 [==============================] - 19s 1ms/step - loss: 0.0344 - acc: 0.0080 - val_loss: 0.0216 - val_acc: 0.0067\n",
      "Epoch 45/50\n",
      "14286/14286 [==============================] - 19s 1ms/step - loss: 0.0345 - acc: 0.0080 - val_loss: 0.0217 - val_acc: 0.0067\n",
      "Epoch 46/50\n",
      "14286/14286 [==============================] - 19s 1ms/step - loss: 0.0335 - acc: 0.0080 - val_loss: 0.0219 - val_acc: 0.0067\n",
      "Epoch 47/50\n",
      "14286/14286 [==============================] - 19s 1ms/step - loss: 0.0334 - acc: 0.0080 - val_loss: 0.0218 - val_acc: 0.0067\n",
      "Epoch 48/50\n",
      "14286/14286 [==============================] - 19s 1ms/step - loss: 0.0323 - acc: 0.0080 - val_loss: 0.0216 - val_acc: 0.0067\n",
      "Epoch 49/50\n",
      "14286/14286 [==============================] - 19s 1ms/step - loss: 0.0322 - acc: 0.0080 - val_loss: 0.0214 - val_acc: 0.0067\n",
      "Epoch 50/50\n",
      "14286/14286 [==============================] - 19s 1ms/step - loss: 0.0324 - acc: 0.0080 - val_loss: 0.0219 - val_acc: 0.0067\n"
     ]
    }
   ],
   "source": [
    "earlystopper = EarlyStopping(patience=5, verbose=1)\n",
    "checkpointer = ModelCheckpoint('model_nor.h5', monitor='val_loss', verbose=1, save_best_only=True)\n",
    "results = model.fit(X_train_normal, y_train_normal,\n",
    "                    validation_data=(X_valid_normal, y_valid_normal),\n",
    "                    batch_size=32, epochs=50, verbose=1)\n",
    "model.save('model_nor.h5')"
   ]
  },
  {
   "cell_type": "code",
   "execution_count": 11,
   "metadata": {},
   "outputs": [
    {
     "name": "stdout",
     "output_type": "stream",
     "text": [
      "Train on 19284 samples, validate on 4824 samples\n",
      "Epoch 1/30\n",
      "19284/19284 [==============================] - 27s 1ms/step - loss: 0.6170 - acc: 0.0891 - val_loss: 0.0614 - val_acc: 0.1843\n",
      "Epoch 2/30\n",
      "19284/19284 [==============================] - 26s 1ms/step - loss: 0.5452 - acc: 0.0902 - val_loss: 0.0520 - val_acc: 0.1847\n",
      "Epoch 3/30\n",
      "19284/19284 [==============================] - 26s 1ms/step - loss: 0.5045 - acc: 0.0927 - val_loss: 0.0413 - val_acc: 0.1847\n",
      "Epoch 4/30\n",
      "19284/19284 [==============================] - 26s 1ms/step - loss: 0.4886 - acc: 0.0960 - val_loss: 0.0400 - val_acc: 0.1847\n",
      "Epoch 5/30\n",
      "19284/19284 [==============================] - 25s 1ms/step - loss: 0.4659 - acc: 0.0964 - val_loss: 0.0365 - val_acc: 0.1847\n",
      "Epoch 6/30\n",
      "19284/19284 [==============================] - 26s 1ms/step - loss: 0.4445 - acc: 0.0967 - val_loss: 0.0393 - val_acc: 0.1845\n",
      "Epoch 7/30\n",
      "19284/19284 [==============================] - 26s 1ms/step - loss: 0.4310 - acc: 0.1010 - val_loss: 0.0353 - val_acc: 0.1847\n",
      "Epoch 8/30\n",
      "19284/19284 [==============================] - 26s 1ms/step - loss: 0.4131 - acc: 0.1005 - val_loss: 0.0368 - val_acc: 0.1843\n",
      "Epoch 9/30\n",
      "19284/19284 [==============================] - 25s 1ms/step - loss: 0.4038 - acc: 0.1026 - val_loss: 0.0329 - val_acc: 0.1845\n",
      "Epoch 10/30\n",
      "19284/19284 [==============================] - 26s 1ms/step - loss: 0.3914 - acc: 0.1033 - val_loss: 0.0324 - val_acc: 0.1847\n",
      "Epoch 11/30\n",
      "19284/19284 [==============================] - 26s 1ms/step - loss: 0.3764 - acc: 0.1069 - val_loss: 0.0298 - val_acc: 0.1845\n",
      "Epoch 12/30\n",
      "19284/19284 [==============================] - 26s 1ms/step - loss: 0.3542 - acc: 0.1078 - val_loss: 0.0287 - val_acc: 0.1847\n",
      "Epoch 13/30\n",
      "19284/19284 [==============================] - 26s 1ms/step - loss: 0.3588 - acc: 0.1070 - val_loss: 0.0278 - val_acc: 0.1847\n",
      "Epoch 14/30\n",
      "19284/19284 [==============================] - 26s 1ms/step - loss: 0.3411 - acc: 0.1085 - val_loss: 0.0297 - val_acc: 0.1847\n",
      "Epoch 15/30\n",
      "19284/19284 [==============================] - 26s 1ms/step - loss: 0.3281 - acc: 0.1123 - val_loss: 0.0284 - val_acc: 0.1847\n",
      "Epoch 16/30\n",
      "19284/19284 [==============================] - 26s 1ms/step - loss: 0.3226 - acc: 0.1112 - val_loss: 0.0317 - val_acc: 0.1845\n",
      "Epoch 17/30\n",
      "19284/19284 [==============================] - 26s 1ms/step - loss: 0.3070 - acc: 0.1147 - val_loss: 0.0292 - val_acc: 0.1847\n",
      "Epoch 18/30\n",
      "19284/19284 [==============================] - 26s 1ms/step - loss: 0.2912 - acc: 0.1181 - val_loss: 0.0273 - val_acc: 0.1847\n",
      "Epoch 19/30\n",
      "19284/19284 [==============================] - 26s 1ms/step - loss: 0.2759 - acc: 0.1204 - val_loss: 0.0308 - val_acc: 0.1847\n",
      "Epoch 20/30\n",
      "19284/19284 [==============================] - 26s 1ms/step - loss: 0.2715 - acc: 0.1209 - val_loss: 0.0274 - val_acc: 0.1845\n",
      "Epoch 21/30\n",
      "19284/19284 [==============================] - 26s 1ms/step - loss: 0.2589 - acc: 0.1244 - val_loss: 0.0334 - val_acc: 0.1837\n",
      "Epoch 22/30\n",
      "19284/19284 [==============================] - 26s 1ms/step - loss: 0.2472 - acc: 0.1259 - val_loss: 0.0300 - val_acc: 0.1841\n",
      "Epoch 23/30\n",
      "19284/19284 [==============================] - 26s 1ms/step - loss: 0.2363 - acc: 0.1284 - val_loss: 0.0308 - val_acc: 0.1843\n",
      "Epoch 24/30\n",
      "19284/19284 [==============================] - 26s 1ms/step - loss: 0.2258 - acc: 0.1312 - val_loss: 0.0278 - val_acc: 0.1841\n",
      "Epoch 25/30\n",
      "19284/19284 [==============================] - 26s 1ms/step - loss: 0.2136 - acc: 0.1348 - val_loss: 0.0252 - val_acc: 0.1847\n",
      "Epoch 26/30\n",
      "19284/19284 [==============================] - 26s 1ms/step - loss: 0.2062 - acc: 0.1356 - val_loss: 0.0274 - val_acc: 0.1847\n",
      "Epoch 27/30\n",
      "19284/19284 [==============================] - 26s 1ms/step - loss: 0.1903 - acc: 0.1386 - val_loss: 0.0289 - val_acc: 0.1845\n",
      "Epoch 28/30\n",
      "19284/19284 [==============================] - 26s 1ms/step - loss: 0.1848 - acc: 0.1399 - val_loss: 0.0307 - val_acc: 0.1843\n",
      "Epoch 29/30\n",
      "19284/19284 [==============================] - 26s 1ms/step - loss: 0.1734 - acc: 0.1436 - val_loss: 0.0247 - val_acc: 0.1847\n",
      "Epoch 30/30\n",
      "19284/19284 [==============================] - 26s 1ms/step - loss: 0.1618 - acc: 0.1470 - val_loss: 0.0289 - val_acc: 0.1843\n"
     ]
    }
   ],
   "source": [
    "#For fun lets train raw data\n",
    "earlystopper = EarlyStopping(patience=5, verbose=1)\n",
    "checkpointer = ModelCheckpoint('model_row.h5', monitor='val_loss', verbose=1, save_best_only=True)\n",
    "results = model.fit(X_train_s, y_train_s,\n",
    "                    validation_data=(X_valid_s, y_valid_s),\n",
    "                    batch_size=32, epochs=30, verbose=1)\n",
    "model.save('model_row.h5')"
   ]
  },
  {
   "cell_type": "code",
   "execution_count": null,
   "metadata": {},
   "outputs": [],
   "source": []
  }
 ],
 "metadata": {
  "kernelspec": {
   "display_name": "Python 3",
   "language": "python",
   "name": "python3"
  },
  "language_info": {
   "codemirror_mode": {
    "name": "ipython",
    "version": 3
   },
   "file_extension": ".py",
   "mimetype": "text/x-python",
   "name": "python",
   "nbconvert_exporter": "python",
   "pygments_lexer": "ipython3",
   "version": "3.6.4"
  },
  "widgets": {
   "state": {},
   "version": "1.1.2"
  }
 },
 "nbformat": 4,
 "nbformat_minor": 2
}
